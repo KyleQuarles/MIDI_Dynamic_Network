{
 "cells": [
  {
   "cell_type": "code",
   "execution_count": 48,
   "metadata": {},
   "outputs": [],
   "source": [
    "###basic csv file creation\r\n",
    "import csv\r\n",
    "\r\n",
    "with open('persons.csv', 'w', newline='') as file:\r\n",
    "    writer = csv.writer(file)\r\n",
    "    writer.writerow(['Name', 'Profession'])\r\n",
    "    writer.writerow(['Derek', 'Software Developer'])\r\n",
    "    writer.writerow(['Steve', 'Software Developer'])\r\n",
    "    writer.writerow(['Paul', 'Manager'])"
   ]
  },
  {
   "cell_type": "code",
   "execution_count": 15,
   "metadata": {},
   "outputs": [],
   "source": [
    "### writing multiple rows from a python list\r\n",
    "import csv\r\n",
    "row_list = [[\"SN\", \"Name\", \"Contribution\"],\r\n",
    "            [1, \"Linus Torvalds\", \"Linux Kernel\"],\r\n",
    "            [2, \"Tim Berners-Lee\", \"World Wide Web\"],\r\n",
    "            [3, \"Guido van Rossum\", \"Python Programming\"]]\r\n",
    "with open('protagonist.csv', 'w', newline='') as file:\r\n",
    "    writer = csv.writer(file)\r\n",
    "    writer.writerows(row_list)"
   ]
  },
  {
   "cell_type": "code",
   "execution_count": null,
   "metadata": {},
   "outputs": [],
   "source": [
    "### importing midi\r\n",
    "import mido ###why doesn't this effing work?\r\n",
    "from mido import MidiFile\r\n",
    "mid = MidiFile('sop1.mid')\r\n",
    "test_string = 'note_on'\r\n",
    "\r\n",
    "### printing midi data;;; be advised that in MIDI format a note_on messsage with a velocity of 0 is equivalent to a note_off message\r\n",
    "for i, track in enumerate(mid.tracks):\r\n",
    "    print('Track {}: {}'.format(i, track.name))\r\n",
    "    for msg in track:\r\n",
    "        print(str(msg))\r\n",
    "\r\n",
    "#how to see how many tracks in a MidiFile\r\n",
    "mid.print_tracks(meta_only=True)\r\n",
    "\r\n",
    "# mido.ticks2second(3840,mid.ticks_per_beat,)"
   ]
  },
  {
   "cell_type": "code",
   "execution_count": 17,
   "metadata": {},
   "outputs": [],
   "source": [
    "### Getting only note_on messages\r\n",
    "from mido import MidiFile\r\n",
    "mid = MidiFile('ockIntroitus.mid')\r\n",
    "\r\n",
    "def test(example):\r\n",
    "    for i, track in enumerate(example.tracks):\r\n",
    "        print('Track {}: {}'.format(i, track.name))\r\n",
    "        for msg in track:\r\n",
    "            if msg.type == 'note_on':\r\n",
    "                if msg.velocity == 0:\r\n",
    "                    print('note_off ' + str(msg)[8:]) # this is for MIDI tracks that implement note_offs as zero velocity note_ons ; standardizes to using note_offs\r\n",
    "                else: print(str(msg))\r\n"
   ]
  },
  {
   "cell_type": "code",
   "execution_count": 142,
   "metadata": {},
   "outputs": [
    {
     "name": "stdout",
     "output_type": "stream",
     "text": [
      "[['Track 0 ', []], ['Track 1 ', [[1, 'note_on', 'channel=0', 'note=74', 'velocity=100', 'time=0'], [2, 'note_off', 'channel=0', 'note=74', 'velocity=0', 'time=3839'], [3, 'note_on', 'channel=0', 'note=74', 'velocity=100', 'time=1'], [4, 'note_off', 'channel=0', 'note=74', 'velocity=0', 'time=3839'], [5, 'note_on', 'channel=0', 'note=74', 'velocity=100', 'time=1'], [6, 'note_off', 'channel=0', 'note=74', 'velocity=0', 'time=3839'], [7, 'note_on', 'channel=0', 'note=74', 'velocity=100', 'time=1'], [8, 'note_off', 'channel=0', 'note=74', 'velocity=0', 'time=3839']]], ['Track 2 ', [[1, 'note_on', 'channel=1', 'note=71', 'velocity=100', 'time=0'], [2, 'note_off', 'channel=1', 'note=71', 'velocity=0', 'time=3839'], [3, 'note_on', 'channel=1', 'note=72', 'velocity=100', 'time=1'], [4, 'note_off', 'channel=1', 'note=72', 'velocity=0', 'time=3839'], [5, 'note_on', 'channel=1', 'note=72', 'velocity=100', 'time=1'], [6, 'note_off', 'channel=1', 'note=72', 'velocity=0', 'time=3839'], [7, 'note_on', 'channel=1', 'note=72', 'velocity=100', 'time=1'], [8, 'note_off', 'channel=1', 'note=72', 'velocity=0', 'time=3839']]], ['Track 3 ', [[1, 'note_on', 'channel=2', 'note=71', 'velocity=100', 'time=0'], [2, 'note_off', 'channel=2', 'note=71', 'velocity=0', 'time=3839'], [3, 'note_on', 'channel=2', 'note=71', 'velocity=100', 'time=1'], [4, 'note_off', 'channel=2', 'note=71', 'velocity=0', 'time=3839'], [5, 'note_on', 'channel=2', 'note=71', 'velocity=100', 'time=1'], [6, 'note_off', 'channel=2', 'note=71', 'velocity=0', 'time=3839'], [7, 'note_on', 'channel=2', 'note=71', 'velocity=100', 'time=1'], [8, 'note_off', 'channel=2', 'note=71', 'velocity=0', 'time=3839']]]]\n",
      "[0, 3839, 3840, 7679, 7680, 11519, 11520, 15359]\n",
      "[0, 3839, 3840, 7679, 7680, 11519, 11520, 15359]\n",
      "[0, 3839, 3840, 7679, 7680, 11519, 11520, 15359]\n"
     ]
    }
   ],
   "source": [
    "from mido import MidiFile\r\n",
    "import itertools\r\n",
    "mid = MidiFile('test1.mid')\r\n",
    "test_string = 'note_on'\r\n",
    "\r\n",
    "def midi2list(midi_file): # gets only the note_on and note_off messages, creates a sublist for each, and breaks their parameters into separate strings\r\n",
    "    for i, track in enumerate(midi_file.tracks):\r\n",
    "        extraction = [ list(str(msg).split(\" \")) for msg in track if msg.type == 'note_on' or msg.type == 'note_off' ]\r\n",
    "        yield [ 'Track {} {}'.format(i, track.name), list(extraction) ]\r\n",
    "\r\n",
    "step1 = list(midi2list(mid))\r\n",
    "#print(step1)\r\n",
    "\r\n",
    "def numberer(message_list): # adds number to beginning of each sub-list, which will be used in .csv creation to indicate row number\r\n",
    "    for entry in message_list:\r\n",
    "        counter = 1\r\n",
    "        if len(entry[1]) != 0:\r\n",
    "            for message in entry[1]:\r\n",
    "                message.insert(0, counter)\r\n",
    "                counter += 1\r\n",
    "    return message_list\r\n",
    "\r\n",
    "step2 = numberer(step1)\r\n",
    "# print(step2)\r\n",
    "\r\n",
    "def standardizer(numbed_list): # tests for note_on messages with velocity = 0; changes them to note_offs\r\n",
    "    for entry in numbed_list:\r\n",
    "        if len(entry[1]) != 0:\r\n",
    "            for message in entry[1]:\r\n",
    "                if message[4] == 'velocity=0':\r\n",
    "                    message[1] = 'note_off'\r\n",
    "    return numbed_list\r\n",
    "\r\n",
    "step3 = standardizer(step2)\r\n",
    "# print(step3)\r\n",
    "\r\n",
    "combined_func = standardizer(numberer(list(midi2list(mid))))\r\n",
    "print(combined_func)\r\n",
    "\r\n",
    "def onsets(pl): # gets just the onset delta-times and converts them to an int list of absolute times\r\n",
    "    for entry in pl:\r\n",
    "        if len(entry[1]) != 0:\r\n",
    "            deltas = [ int( message[5].partition('=')[2]) for message in entry[1] ]\r\n",
    "            yield itertools.accumulate(deltas)\r\n",
    "\r\n",
    "for item in (list(onsets(combined_func))):\r\n",
    "    print(list(item))\r\n",
    "\r\n",
    "# for i, entry in enumerate(combined_func):\r\n",
    "#     [ onsets[]\r\n",
    "\r\n",
    "\r\n",
    "\r\n"
   ]
  },
  {
   "cell_type": "code",
   "execution_count": null,
   "metadata": {},
   "outputs": [],
   "source": [
    "###Pseudo code to be done:\r\n",
    "### format to be passed to csv creator is:\r\n",
    "    # [[\"Onset\", \"Terminus\", \"tail\", \"head\"]]\r\n",
    "\r\n",
    "#1. Make a dynamic node list in format:\r\n",
    "    # [[\"Onset\", \"Terminus\", \"vertex.id\", \"onset.censored\", \"terminus.censored\", \"duration\"]]\r\n",
    "### Get list of all tempo changes\r\n",
    "### For all tracks:\r\n",
    "        i = 0\r\n",
    "    # for all msg in track:\r\n",
    "    \r\n",
    "        if msg is a note_on messsage:\r\n",
    "            create entry [i += 1,  ]"
   ]
  },
  {
   "cell_type": "code",
   "execution_count": 104,
   "metadata": {},
   "outputs": [
    {
     "data": {
      "text/plain": [
       "[4, 5]"
      ]
     },
     "execution_count": 104,
     "metadata": {},
     "output_type": "execute_result"
    }
   ],
   "source": [
    "# lakjsdf = 'it=120'\r\n",
    "# lakjsdf.partition('=')[2]\r\n",
    "\r\n",
    "test = [ 1, 2, 3, 4, 5]\r\n",
    "test[3:]"
   ]
  }
 ],
 "metadata": {
  "interpreter": {
   "hash": "f7291e4b392a32fbfa525b87d1bbd0a3d888adf3d0deca0c205c61b9e7284b82"
  },
  "kernelspec": {
   "display_name": "Python 3.6.6 64-bit",
   "name": "python3"
  },
  "language_info": {
   "name": "python",
   "version": ""
  },
  "orig_nbformat": 2
 },
 "nbformat": 4,
 "nbformat_minor": 2
}